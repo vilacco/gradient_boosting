{
  "nbformat": 4,
  "nbformat_minor": 0,
  "metadata": {
    "colab": {
      "name": "Untitled1.ipynb",
      "provenance": [],
      "authorship_tag": "ABX9TyM4BF7PCETGOHvlvLRV1dvW",
      "include_colab_link": true
    },
    "kernelspec": {
      "name": "python3",
      "display_name": "Python 3"
    },
    "language_info": {
      "name": "python"
    }
  },
  "cells": [
    {
      "cell_type": "markdown",
      "metadata": {
        "id": "view-in-github",
        "colab_type": "text"
      },
      "source": [
        "<a href=\"https://colab.research.google.com/github/vilacco/gradient_boosting/blob/main/Untitled1.ipynb\" target=\"_parent\"><img src=\"https://colab.research.google.com/assets/colab-badge.svg\" alt=\"Open In Colab\"/></a>"
      ]
    },
    {
      "cell_type": "code",
      "metadata": {
        "id": "FthUGRhoZ0sm"
      },
      "source": [
        "import pandas as pd\n",
        "import numpy as np \n",
        "from sklearn.datasets import make_regression\n",
        "from sklearn.metrics import mean_absolute_error, mean_squared_error\n",
        "from sklearn.tree import DecisionTreeRegressor"
      ],
      "execution_count": 102,
      "outputs": []
    },
    {
      "cell_type": "code",
      "metadata": {
        "id": "hmVXVMsejlc6"
      },
      "source": [
        "x, y = make_regression(n_samples = 10, n_features = 3, n_targets = 1)"
      ],
      "execution_count": 4,
      "outputs": []
    },
    {
      "cell_type": "code",
      "metadata": {
        "id": "F9qspgALj3v_"
      },
      "source": [
        "df = pd.DataFrame(x)\n",
        "df['y_true'] = y"
      ],
      "execution_count": 5,
      "outputs": []
    },
    {
      "cell_type": "code",
      "metadata": {
        "id": "8HOGmgYQkYpv"
      },
      "source": [
        "df['y_predicted'] = df['y_true'].mean() "
      ],
      "execution_count": 26,
      "outputs": []
    },
    {
      "cell_type": "code",
      "metadata": {
        "id": "l7cg6MT0xEQj"
      },
      "source": [
        "MAE_0 = mean_absolute_error(df['y_true'], df['y_predicted'])"
      ],
      "execution_count": 72,
      "outputs": []
    },
    {
      "cell_type": "code",
      "metadata": {
        "colab": {
          "base_uri": "https://localhost:8080/"
        },
        "id": "aAy4vg5rrtWh",
        "outputId": "10871dc4-2562-4445-c37f-24b5932d4db2"
      },
      "source": [
        "MAE_0"
      ],
      "execution_count": 73,
      "outputs": [
        {
          "output_type": "execute_result",
          "data": {
            "text/plain": [
              "50.11459940994148"
            ]
          },
          "metadata": {},
          "execution_count": 73
        }
      ]
    },
    {
      "cell_type": "code",
      "metadata": {
        "id": "9RNCq7A1liuh"
      },
      "source": [
        "df['residual'] = df['y_true'] - df['y_predicted']"
      ],
      "execution_count": 55,
      "outputs": []
    },
    {
      "cell_type": "code",
      "metadata": {
        "id": "JkmvWfIHzj78"
      },
      "source": [
        "D_tree = DecisionTreeRegressor(max_depth= 1)"
      ],
      "execution_count": 29,
      "outputs": []
    },
    {
      "cell_type": "code",
      "metadata": {
        "colab": {
          "base_uri": "https://localhost:8080/"
        },
        "id": "_qvSUAuV061z",
        "outputId": "f489f7af-1fd2-41cc-ac58-84535d578271"
      },
      "source": [
        "D_tree.fit(df[[0, 1, 2]], df['residual'])"
      ],
      "execution_count": 43,
      "outputs": [
        {
          "output_type": "execute_result",
          "data": {
            "text/plain": [
              "DecisionTreeRegressor(ccp_alpha=0.0, criterion='mse', max_depth=1,\n",
              "                      max_features=None, max_leaf_nodes=None,\n",
              "                      min_impurity_decrease=0.0, min_impurity_split=None,\n",
              "                      min_samples_leaf=1, min_samples_split=2,\n",
              "                      min_weight_fraction_leaf=0.0, presort='deprecated',\n",
              "                      random_state=None, splitter='best')"
            ]
          },
          "metadata": {},
          "execution_count": 43
        }
      ]
    },
    {
      "cell_type": "code",
      "metadata": {
        "id": "7yAlJnN11SjP"
      },
      "source": [
        "df['tree_prediction'] = D_tree.predict(df[[0, 1, 2]])"
      ],
      "execution_count": 44,
      "outputs": []
    },
    {
      "cell_type": "code",
      "metadata": {
        "id": "GuikcS_R1tDb"
      },
      "source": [
        "l_rate = 0.1"
      ],
      "execution_count": 33,
      "outputs": []
    },
    {
      "cell_type": "code",
      "metadata": {
        "id": "73ezGMIncBVp"
      },
      "source": [
        "df['y_predicted_1'] = df['y_predicted'] + l_rate * df['tree_prediction']"
      ],
      "execution_count": 56,
      "outputs": []
    },
    {
      "cell_type": "code",
      "metadata": {
        "id": "cfn0_YF8ocq5"
      },
      "source": [
        "MAE_1 = mean_absolute_error(df['y_true'], df['y_predicted_1'])"
      ],
      "execution_count": 76,
      "outputs": []
    },
    {
      "cell_type": "code",
      "metadata": {
        "colab": {
          "base_uri": "https://localhost:8080/"
        },
        "id": "xEe5kdF2rSGb",
        "outputId": "d917a480-d51c-4eba-fbb4-278e92bdd1ea"
      },
      "source": [
        "MAE_0, '    ', MAE_1"
      ],
      "execution_count": 79,
      "outputs": [
        {
          "output_type": "execute_result",
          "data": {
            "text/plain": [
              "(50.11459940994148, '    ', 46.90667675283993)"
            ]
          },
          "metadata": {},
          "execution_count": 79
        }
      ]
    },
    {
      "cell_type": "code",
      "metadata": {
        "id": "dJalAz1prWii"
      },
      "source": [
        "df['residual_1'] = df['y_true'] - df['y_predicted_1']"
      ],
      "execution_count": 59,
      "outputs": []
    },
    {
      "cell_type": "code",
      "metadata": {
        "id": "Xzquho_jsbJL"
      },
      "source": [
        "df.drop('y_predicted_', axis=1, inplace=True)"
      ],
      "execution_count": 61,
      "outputs": []
    },
    {
      "cell_type": "code",
      "metadata": {
        "id": "r-BtDyhvtM9l"
      },
      "source": [
        "df = df[[0, 1, 2, 'y_true', 'y_predicted', 'residual', 'tree_prediction', 'y_predicted_1', 'residual_1']]"
      ],
      "execution_count": 62,
      "outputs": []
    },
    {
      "cell_type": "code",
      "metadata": {
        "id": "gQL-wfwOu1GE"
      },
      "source": [
        "D_tree_1 = DecisionTreeRegressor(max_depth=1)"
      ],
      "execution_count": 64,
      "outputs": []
    },
    {
      "cell_type": "code",
      "metadata": {
        "colab": {
          "base_uri": "https://localhost:8080/"
        },
        "id": "UKYZCQbGv33G",
        "outputId": "f86c2a19-0cce-4653-b9e3-efd41fe3d387"
      },
      "source": [
        "D_tree_1.fit(df[[0, 1, 2]], df['residual_1'])"
      ],
      "execution_count": 88,
      "outputs": [
        {
          "output_type": "execute_result",
          "data": {
            "text/plain": [
              "DecisionTreeRegressor(ccp_alpha=0.0, criterion='mse', max_depth=1,\n",
              "                      max_features=None, max_leaf_nodes=None,\n",
              "                      min_impurity_decrease=0.0, min_impurity_split=None,\n",
              "                      min_samples_leaf=1, min_samples_split=2,\n",
              "                      min_weight_fraction_leaf=0.0, presort='deprecated',\n",
              "                      random_state=None, splitter='best')"
            ]
          },
          "metadata": {},
          "execution_count": 88
        }
      ]
    },
    {
      "cell_type": "code",
      "metadata": {
        "colab": {
          "base_uri": "https://localhost:8080/"
        },
        "id": "5mw2-WTuwHu1",
        "outputId": "f901757b-448a-4b37-aa9e-65fbc8e8b434"
      },
      "source": [
        "df['y_predicted_2'] = df['y_predicted_1'] + l_rate * D_tree_1.predict(df[[0, 1, 2]])"
      ],
      "execution_count": 89,
      "outputs": [
        {
          "output_type": "stream",
          "name": "stderr",
          "text": [
            "/usr/local/lib/python3.7/dist-packages/ipykernel_launcher.py:1: SettingWithCopyWarning: \n",
            "A value is trying to be set on a copy of a slice from a DataFrame.\n",
            "Try using .loc[row_indexer,col_indexer] = value instead\n",
            "\n",
            "See the caveats in the documentation: https://pandas.pydata.org/pandas-docs/stable/user_guide/indexing.html#returning-a-view-versus-a-copy\n",
            "  \"\"\"Entry point for launching an IPython kernel.\n"
          ]
        }
      ]
    },
    {
      "cell_type": "code",
      "metadata": {
        "colab": {
          "base_uri": "https://localhost:8080/",
          "height": 383
        },
        "id": "9fN9vuMtwj3I",
        "outputId": "54801e1e-3ff1-4bd8-a594-6855339c8e6d"
      },
      "source": [
        "df"
      ],
      "execution_count": 90,
      "outputs": [
        {
          "output_type": "execute_result",
          "data": {
            "text/html": [
              "<div>\n",
              "<style scoped>\n",
              "    .dataframe tbody tr th:only-of-type {\n",
              "        vertical-align: middle;\n",
              "    }\n",
              "\n",
              "    .dataframe tbody tr th {\n",
              "        vertical-align: top;\n",
              "    }\n",
              "\n",
              "    .dataframe thead th {\n",
              "        text-align: right;\n",
              "    }\n",
              "</style>\n",
              "<table border=\"1\" class=\"dataframe\">\n",
              "  <thead>\n",
              "    <tr style=\"text-align: right;\">\n",
              "      <th></th>\n",
              "      <th>0</th>\n",
              "      <th>1</th>\n",
              "      <th>2</th>\n",
              "      <th>y_true</th>\n",
              "      <th>y_predicted</th>\n",
              "      <th>residual</th>\n",
              "      <th>tree_prediction</th>\n",
              "      <th>y_predicted_1</th>\n",
              "      <th>residual_1</th>\n",
              "      <th>y_predicted_2</th>\n",
              "    </tr>\n",
              "  </thead>\n",
              "  <tbody>\n",
              "    <tr>\n",
              "      <th>0</th>\n",
              "      <td>-0.189095</td>\n",
              "      <td>-0.590133</td>\n",
              "      <td>-0.292619</td>\n",
              "      <td>-42.573793</td>\n",
              "      <td>15.649219</td>\n",
              "      <td>-58.223012</td>\n",
              "      <td>-74.851529</td>\n",
              "      <td>8.164066</td>\n",
              "      <td>-50.737859</td>\n",
              "      <td>3.706678</td>\n",
              "    </tr>\n",
              "    <tr>\n",
              "      <th>1</th>\n",
              "      <td>1.268815</td>\n",
              "      <td>-0.229009</td>\n",
              "      <td>0.719377</td>\n",
              "      <td>62.095347</td>\n",
              "      <td>15.649219</td>\n",
              "      <td>46.446129</td>\n",
              "      <td>32.079227</td>\n",
              "      <td>18.857142</td>\n",
              "      <td>43.238206</td>\n",
              "      <td>23.314530</td>\n",
              "    </tr>\n",
              "    <tr>\n",
              "      <th>2</th>\n",
              "      <td>0.351561</td>\n",
              "      <td>1.628338</td>\n",
              "      <td>-0.391306</td>\n",
              "      <td>77.796842</td>\n",
              "      <td>15.649219</td>\n",
              "      <td>62.147623</td>\n",
              "      <td>32.079227</td>\n",
              "      <td>18.857142</td>\n",
              "      <td>58.939701</td>\n",
              "      <td>23.314530</td>\n",
              "    </tr>\n",
              "    <tr>\n",
              "      <th>3</th>\n",
              "      <td>0.714509</td>\n",
              "      <td>0.295048</td>\n",
              "      <td>1.276370</td>\n",
              "      <td>77.854571</td>\n",
              "      <td>15.649219</td>\n",
              "      <td>62.205352</td>\n",
              "      <td>32.079227</td>\n",
              "      <td>18.857142</td>\n",
              "      <td>58.997429</td>\n",
              "      <td>23.314530</td>\n",
              "    </tr>\n",
              "    <tr>\n",
              "      <th>4</th>\n",
              "      <td>1.498093</td>\n",
              "      <td>0.039064</td>\n",
              "      <td>0.749003</td>\n",
              "      <td>84.607664</td>\n",
              "      <td>15.649219</td>\n",
              "      <td>68.958445</td>\n",
              "      <td>32.079227</td>\n",
              "      <td>18.857142</td>\n",
              "      <td>65.750522</td>\n",
              "      <td>23.314530</td>\n",
              "    </tr>\n",
              "    <tr>\n",
              "      <th>5</th>\n",
              "      <td>-0.582368</td>\n",
              "      <td>-1.488975</td>\n",
              "      <td>-0.441633</td>\n",
              "      <td>-103.746168</td>\n",
              "      <td>15.649219</td>\n",
              "      <td>-119.395387</td>\n",
              "      <td>-74.851529</td>\n",
              "      <td>8.164066</td>\n",
              "      <td>-111.910235</td>\n",
              "      <td>3.706678</td>\n",
              "    </tr>\n",
              "    <tr>\n",
              "      <th>6</th>\n",
              "      <td>-0.457270</td>\n",
              "      <td>0.041965</td>\n",
              "      <td>0.281497</td>\n",
              "      <td>-9.520675</td>\n",
              "      <td>15.649219</td>\n",
              "      <td>-25.169894</td>\n",
              "      <td>32.079227</td>\n",
              "      <td>18.857142</td>\n",
              "      <td>-28.377817</td>\n",
              "      <td>14.399753</td>\n",
              "    </tr>\n",
              "    <tr>\n",
              "      <th>7</th>\n",
              "      <td>-0.233820</td>\n",
              "      <td>-0.635062</td>\n",
              "      <td>0.266233</td>\n",
              "      <td>-31.286968</td>\n",
              "      <td>15.649219</td>\n",
              "      <td>-46.936187</td>\n",
              "      <td>-74.851529</td>\n",
              "      <td>8.164066</td>\n",
              "      <td>-39.451034</td>\n",
              "      <td>3.706678</td>\n",
              "    </tr>\n",
              "    <tr>\n",
              "      <th>8</th>\n",
              "      <td>-0.333473</td>\n",
              "      <td>0.601392</td>\n",
              "      <td>0.483084</td>\n",
              "      <td>26.464667</td>\n",
              "      <td>15.649219</td>\n",
              "      <td>10.815448</td>\n",
              "      <td>32.079227</td>\n",
              "      <td>18.857142</td>\n",
              "      <td>7.607526</td>\n",
              "      <td>14.399753</td>\n",
              "    </tr>\n",
              "    <tr>\n",
              "      <th>9</th>\n",
              "      <td>0.351990</td>\n",
              "      <td>-0.114713</td>\n",
              "      <td>0.195635</td>\n",
              "      <td>14.800702</td>\n",
              "      <td>15.649219</td>\n",
              "      <td>-0.848517</td>\n",
              "      <td>32.079227</td>\n",
              "      <td>18.857142</td>\n",
              "      <td>-4.056440</td>\n",
              "      <td>23.314530</td>\n",
              "    </tr>\n",
              "  </tbody>\n",
              "</table>\n",
              "</div>"
            ],
            "text/plain": [
              "          0         1         2  ...  y_predicted_1  residual_1  y_predicted_2\n",
              "0 -0.189095 -0.590133 -0.292619  ...       8.164066  -50.737859       3.706678\n",
              "1  1.268815 -0.229009  0.719377  ...      18.857142   43.238206      23.314530\n",
              "2  0.351561  1.628338 -0.391306  ...      18.857142   58.939701      23.314530\n",
              "3  0.714509  0.295048  1.276370  ...      18.857142   58.997429      23.314530\n",
              "4  1.498093  0.039064  0.749003  ...      18.857142   65.750522      23.314530\n",
              "5 -0.582368 -1.488975 -0.441633  ...       8.164066 -111.910235       3.706678\n",
              "6 -0.457270  0.041965  0.281497  ...      18.857142  -28.377817      14.399753\n",
              "7 -0.233820 -0.635062  0.266233  ...       8.164066  -39.451034       3.706678\n",
              "8 -0.333473  0.601392  0.483084  ...      18.857142    7.607526      14.399753\n",
              "9  0.351990 -0.114713  0.195635  ...      18.857142   -4.056440      23.314530\n",
              "\n",
              "[10 rows x 10 columns]"
            ]
          },
          "metadata": {},
          "execution_count": 90
        }
      ]
    },
    {
      "cell_type": "code",
      "metadata": {
        "id": "xfl11MU5wm--"
      },
      "source": [
        "MAE_2 = mean_absolute_error(df['y_true'], df['y_predicted_2'])"
      ],
      "execution_count": 82,
      "outputs": []
    },
    {
      "cell_type": "code",
      "metadata": {
        "colab": {
          "base_uri": "https://localhost:8080/"
        },
        "id": "tzGPHko6yR9A",
        "outputId": "b1579de9-3148-4aa6-94ad-690bfbadb0e4"
      },
      "source": [
        "MAE_1, '    ', MAE_2"
      ],
      "execution_count": 83,
      "outputs": [
        {
          "output_type": "execute_result",
          "data": {
            "text/plain": [
              "(46.90667675283993, '    ', 44.23224373116041)"
            ]
          },
          "metadata": {},
          "execution_count": 83
        }
      ]
    },
    {
      "cell_type": "code",
      "metadata": {
        "id": "R6S7eBV0yVvR"
      },
      "source": [
        "df_1 = df[[0, 1, 2, 'y_true']].copy()"
      ],
      "execution_count": 106,
      "outputs": []
    },
    {
      "cell_type": "code",
      "metadata": {
        "id": "cKQYzTj3zHXs"
      },
      "source": [
        "n = 1000\n",
        "l_rate = 0.1\n",
        "tree_list = []\n",
        "MAE_list = []\n",
        "df_1['y_predicted'] = df_1['y_true'].mean()\n",
        "\n",
        "for i in range (n):\n",
        "    df_1['residual'] = df_1['y_true'] - df_1['y_predicted']\n",
        "    tree = DecisionTreeRegressor(max_depth=1)\n",
        "    tree.fit(df_1[[0, 1, 2]], df_1['residual'])\n",
        "    df_1['y_predicted'] += l_rate * tree.predict(df_1[[0, 1, 2]])\n",
        "    tree_list.append(tree)\n",
        "    MAE_list.append(mean_absolute_error(df_1['y_true'], df_1['y_predicted']))\n",
        "    print(mean_absolute_error(df_1['y_true'], df_1['y_predicted']))\n",
        "    \n",
        "\n"
      ],
      "execution_count": null,
      "outputs": []
    },
    {
      "cell_type": "code",
      "metadata": {
        "colab": {
          "base_uri": "https://localhost:8080/"
        },
        "id": "paIp_jng6pYU",
        "outputId": "9895ac7d-39da-4dd8-d601-cd6921615f82"
      },
      "source": [
        "min(MAE_list)"
      ],
      "execution_count": 111,
      "outputs": [
        {
          "output_type": "execute_result",
          "data": {
            "text/plain": [
              "0.004332529934911911"
            ]
          },
          "metadata": {},
          "execution_count": 111
        }
      ]
    },
    {
      "cell_type": "code",
      "metadata": {
        "colab": {
          "base_uri": "https://localhost:8080/",
          "height": 363
        },
        "id": "-SFZChXU7KbN",
        "outputId": "a23bae78-45c2-4d29-b041-3abd8d00f8fe"
      },
      "source": [
        "df_1"
      ],
      "execution_count": 112,
      "outputs": [
        {
          "output_type": "execute_result",
          "data": {
            "text/html": [
              "<div>\n",
              "<style scoped>\n",
              "    .dataframe tbody tr th:only-of-type {\n",
              "        vertical-align: middle;\n",
              "    }\n",
              "\n",
              "    .dataframe tbody tr th {\n",
              "        vertical-align: top;\n",
              "    }\n",
              "\n",
              "    .dataframe thead th {\n",
              "        text-align: right;\n",
              "    }\n",
              "</style>\n",
              "<table border=\"1\" class=\"dataframe\">\n",
              "  <thead>\n",
              "    <tr style=\"text-align: right;\">\n",
              "      <th></th>\n",
              "      <th>0</th>\n",
              "      <th>1</th>\n",
              "      <th>2</th>\n",
              "      <th>y_true</th>\n",
              "      <th>y_predicted</th>\n",
              "      <th>residual</th>\n",
              "    </tr>\n",
              "  </thead>\n",
              "  <tbody>\n",
              "    <tr>\n",
              "      <th>0</th>\n",
              "      <td>-0.189095</td>\n",
              "      <td>-0.590133</td>\n",
              "      <td>-0.292619</td>\n",
              "      <td>-42.573793</td>\n",
              "      <td>-42.586961</td>\n",
              "      <td>0.013389</td>\n",
              "    </tr>\n",
              "    <tr>\n",
              "      <th>1</th>\n",
              "      <td>1.268815</td>\n",
              "      <td>-0.229009</td>\n",
              "      <td>0.719377</td>\n",
              "      <td>62.095347</td>\n",
              "      <td>62.094580</td>\n",
              "      <td>0.000988</td>\n",
              "    </tr>\n",
              "    <tr>\n",
              "      <th>2</th>\n",
              "      <td>0.351561</td>\n",
              "      <td>1.628338</td>\n",
              "      <td>-0.391306</td>\n",
              "      <td>77.796842</td>\n",
              "      <td>77.796802</td>\n",
              "      <td>-0.000107</td>\n",
              "    </tr>\n",
              "    <tr>\n",
              "      <th>3</th>\n",
              "      <td>0.714509</td>\n",
              "      <td>0.295048</td>\n",
              "      <td>1.276370</td>\n",
              "      <td>77.854571</td>\n",
              "      <td>77.852991</td>\n",
              "      <td>0.001433</td>\n",
              "    </tr>\n",
              "    <tr>\n",
              "      <th>4</th>\n",
              "      <td>1.498093</td>\n",
              "      <td>0.039064</td>\n",
              "      <td>0.749003</td>\n",
              "      <td>84.607664</td>\n",
              "      <td>84.602570</td>\n",
              "      <td>0.004947</td>\n",
              "    </tr>\n",
              "    <tr>\n",
              "      <th>5</th>\n",
              "      <td>-0.582368</td>\n",
              "      <td>-1.488975</td>\n",
              "      <td>-0.441633</td>\n",
              "      <td>-103.746168</td>\n",
              "      <td>-103.740859</td>\n",
              "      <td>-0.005089</td>\n",
              "    </tr>\n",
              "    <tr>\n",
              "      <th>6</th>\n",
              "      <td>-0.457270</td>\n",
              "      <td>0.041965</td>\n",
              "      <td>0.281497</td>\n",
              "      <td>-9.520675</td>\n",
              "      <td>-9.521110</td>\n",
              "      <td>0.000288</td>\n",
              "    </tr>\n",
              "    <tr>\n",
              "      <th>7</th>\n",
              "      <td>-0.233820</td>\n",
              "      <td>-0.635062</td>\n",
              "      <td>0.266233</td>\n",
              "      <td>-31.286968</td>\n",
              "      <td>-31.286291</td>\n",
              "      <td>-0.000456</td>\n",
              "    </tr>\n",
              "    <tr>\n",
              "      <th>8</th>\n",
              "      <td>-0.333473</td>\n",
              "      <td>0.601392</td>\n",
              "      <td>0.483084</td>\n",
              "      <td>26.464667</td>\n",
              "      <td>26.463902</td>\n",
              "      <td>0.000618</td>\n",
              "    </tr>\n",
              "    <tr>\n",
              "      <th>9</th>\n",
              "      <td>0.351990</td>\n",
              "      <td>-0.114713</td>\n",
              "      <td>0.195635</td>\n",
              "      <td>14.800702</td>\n",
              "      <td>14.816566</td>\n",
              "      <td>-0.016011</td>\n",
              "    </tr>\n",
              "  </tbody>\n",
              "</table>\n",
              "</div>"
            ],
            "text/plain": [
              "          0         1         2      y_true  y_predicted  residual\n",
              "0 -0.189095 -0.590133 -0.292619  -42.573793   -42.586961  0.013389\n",
              "1  1.268815 -0.229009  0.719377   62.095347    62.094580  0.000988\n",
              "2  0.351561  1.628338 -0.391306   77.796842    77.796802 -0.000107\n",
              "3  0.714509  0.295048  1.276370   77.854571    77.852991  0.001433\n",
              "4  1.498093  0.039064  0.749003   84.607664    84.602570  0.004947\n",
              "5 -0.582368 -1.488975 -0.441633 -103.746168  -103.740859 -0.005089\n",
              "6 -0.457270  0.041965  0.281497   -9.520675    -9.521110  0.000288\n",
              "7 -0.233820 -0.635062  0.266233  -31.286968   -31.286291 -0.000456\n",
              "8 -0.333473  0.601392  0.483084   26.464667    26.463902  0.000618\n",
              "9  0.351990 -0.114713  0.195635   14.800702    14.816566 -0.016011"
            ]
          },
          "metadata": {},
          "execution_count": 112
        }
      ]
    },
    {
      "cell_type": "code",
      "metadata": {
        "id": "KzloxlCaBOBK"
      },
      "source": [
        "test = df[[0,1,2]].copy()"
      ],
      "execution_count": 113,
      "outputs": []
    },
    {
      "cell_type": "code",
      "metadata": {
        "id": "zCwLKgCWBmAj"
      },
      "source": [
        "test['y_pedicted'] = df['y_true'].mean()"
      ],
      "execution_count": 114,
      "outputs": []
    },
    {
      "cell_type": "code",
      "metadata": {
        "id": "Qt4tBwZJByu2"
      },
      "source": [
        "for tree in tree_list:\n",
        "    test['y_pedicted'] += l_rate * tree.predict(test[[0,1,2]])"
      ],
      "execution_count": 115,
      "outputs": []
    },
    {
      "cell_type": "code",
      "metadata": {
        "colab": {
          "base_uri": "https://localhost:8080/",
          "height": 363
        },
        "id": "MiYG-gFMCJw6",
        "outputId": "012fda4f-7d58-4e3a-c869-46c4ba507a61"
      },
      "source": [
        "test"
      ],
      "execution_count": 116,
      "outputs": [
        {
          "output_type": "execute_result",
          "data": {
            "text/html": [
              "<div>\n",
              "<style scoped>\n",
              "    .dataframe tbody tr th:only-of-type {\n",
              "        vertical-align: middle;\n",
              "    }\n",
              "\n",
              "    .dataframe tbody tr th {\n",
              "        vertical-align: top;\n",
              "    }\n",
              "\n",
              "    .dataframe thead th {\n",
              "        text-align: right;\n",
              "    }\n",
              "</style>\n",
              "<table border=\"1\" class=\"dataframe\">\n",
              "  <thead>\n",
              "    <tr style=\"text-align: right;\">\n",
              "      <th></th>\n",
              "      <th>0</th>\n",
              "      <th>1</th>\n",
              "      <th>2</th>\n",
              "      <th>y_pedicted</th>\n",
              "    </tr>\n",
              "  </thead>\n",
              "  <tbody>\n",
              "    <tr>\n",
              "      <th>0</th>\n",
              "      <td>-0.189095</td>\n",
              "      <td>-0.590133</td>\n",
              "      <td>-0.292619</td>\n",
              "      <td>-42.586961</td>\n",
              "    </tr>\n",
              "    <tr>\n",
              "      <th>1</th>\n",
              "      <td>1.268815</td>\n",
              "      <td>-0.229009</td>\n",
              "      <td>0.719377</td>\n",
              "      <td>62.094580</td>\n",
              "    </tr>\n",
              "    <tr>\n",
              "      <th>2</th>\n",
              "      <td>0.351561</td>\n",
              "      <td>1.628338</td>\n",
              "      <td>-0.391306</td>\n",
              "      <td>77.796802</td>\n",
              "    </tr>\n",
              "    <tr>\n",
              "      <th>3</th>\n",
              "      <td>0.714509</td>\n",
              "      <td>0.295048</td>\n",
              "      <td>1.276370</td>\n",
              "      <td>77.852991</td>\n",
              "    </tr>\n",
              "    <tr>\n",
              "      <th>4</th>\n",
              "      <td>1.498093</td>\n",
              "      <td>0.039064</td>\n",
              "      <td>0.749003</td>\n",
              "      <td>84.602570</td>\n",
              "    </tr>\n",
              "    <tr>\n",
              "      <th>5</th>\n",
              "      <td>-0.582368</td>\n",
              "      <td>-1.488975</td>\n",
              "      <td>-0.441633</td>\n",
              "      <td>-103.740859</td>\n",
              "    </tr>\n",
              "    <tr>\n",
              "      <th>6</th>\n",
              "      <td>-0.457270</td>\n",
              "      <td>0.041965</td>\n",
              "      <td>0.281497</td>\n",
              "      <td>-9.521110</td>\n",
              "    </tr>\n",
              "    <tr>\n",
              "      <th>7</th>\n",
              "      <td>-0.233820</td>\n",
              "      <td>-0.635062</td>\n",
              "      <td>0.266233</td>\n",
              "      <td>-31.286291</td>\n",
              "    </tr>\n",
              "    <tr>\n",
              "      <th>8</th>\n",
              "      <td>-0.333473</td>\n",
              "      <td>0.601392</td>\n",
              "      <td>0.483084</td>\n",
              "      <td>26.463902</td>\n",
              "    </tr>\n",
              "    <tr>\n",
              "      <th>9</th>\n",
              "      <td>0.351990</td>\n",
              "      <td>-0.114713</td>\n",
              "      <td>0.195635</td>\n",
              "      <td>14.816566</td>\n",
              "    </tr>\n",
              "  </tbody>\n",
              "</table>\n",
              "</div>"
            ],
            "text/plain": [
              "          0         1         2  y_pedicted\n",
              "0 -0.189095 -0.590133 -0.292619  -42.586961\n",
              "1  1.268815 -0.229009  0.719377   62.094580\n",
              "2  0.351561  1.628338 -0.391306   77.796802\n",
              "3  0.714509  0.295048  1.276370   77.852991\n",
              "4  1.498093  0.039064  0.749003   84.602570\n",
              "5 -0.582368 -1.488975 -0.441633 -103.740859\n",
              "6 -0.457270  0.041965  0.281497   -9.521110\n",
              "7 -0.233820 -0.635062  0.266233  -31.286291\n",
              "8 -0.333473  0.601392  0.483084   26.463902\n",
              "9  0.351990 -0.114713  0.195635   14.816566"
            ]
          },
          "metadata": {},
          "execution_count": 116
        }
      ]
    },
    {
      "cell_type": "code",
      "metadata": {
        "id": "DoZaAfnVCK-t"
      },
      "source": [
        ""
      ],
      "execution_count": null,
      "outputs": []
    }
  ]
}
